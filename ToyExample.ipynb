{
 "cells": [
  {
   "cell_type": "code",
   "execution_count": 1,
   "id": "spatial-tolerance",
   "metadata": {},
   "outputs": [],
   "source": [
    "import pennylane as qml \n",
    "from pennylane import numpy as np \n",
    "import numpy as scinp \n",
    "import matplotlib.pyplot as plt \n",
    "plt.rcParams['figure.figsize'] = [10, 10]\n",
    "import torch\n",
    "from torch.nn.init import xavier_uniform_\n",
    "from torch import nn "
   ]
  },
  {
   "cell_type": "markdown",
   "id": "unexpected-class",
   "metadata": {},
   "source": [
    "# We create some toy data to test the anomaly detection algorithm ."
   ]
  },
  {
   "cell_type": "code",
   "execution_count": 2,
   "id": "interesting-driver",
   "metadata": {},
   "outputs": [
    {
     "data": {
      "image/png": "[encoded data removed]",
      "text/plain": [
       "<Figure size 720x720 with 1 Axes>"
      ]
     },
     "metadata": {
      "needs_background": "light"
     },
     "output_type": "display_data"
    }
   ],
   "source": [
    "fig,ax=plt.subplots()\n",
    "X_normal=scinp.random.uniform(low=-1,high=1,size=(100,2))\n",
    "y_normal=scinp.ones(100)\n",
    "X_anomalous=scinp.random.uniform(low=3,high=5,size=(50,2))+2\n",
    "y_anomalous=scinp.ones(50)*-1\n",
    "plt.scatter(X_normal[:,0],X_normal[:,1],label='normal')\n",
    "plt.scatter(X_anomalous[:,0],X_anomalous[:,1],label='anomalous')\n",
    "ax.legend()\n",
    "ax.grid(True)\n",
    "plt.show()"
   ]
  },
  {
   "cell_type": "markdown",
   "id": "basic-arrival",
   "metadata": {},
   "source": [
    "# We now code up the quantum generator in the algorithm. To do this, we need to create three separate functions: \n",
    "# (1) The state preparation function. This takes in N latent variables, and encodes them in a quantum state using N single qubit Rx rotations on each latent variable.\n",
    "# (2) The variational circuit function. This function first encodes the data using the state preparation function, and then applies layers of qubit operations, with the layers consisting of single qubit rotations sampled uniformly from the {Rx,Ry,Rz} rotations, and CNOT gates. At the end of the variational circuit, every qubit is measured using the Pauli Z observables.\n",
    "# (3) The classical upscaling layer. This function simply appends a layer to the variational circuit which upscales the dimensionality of the circuit output to the dimensionality of the dataset, and it features a sigmoid activation function."
   ]
  },
  {
   "cell_type": "code",
   "execution_count": 3,
   "id": "bibliographic-stamp",
   "metadata": {},
   "outputs": [],
   "source": [
    "latent_dimensionality=2"
   ]
  },
  {
   "cell_type": "code",
   "execution_count": 280,
   "id": "wound-welcome",
   "metadata": {},
   "outputs": [],
   "source": [
    "dev=qml.device(\"qulacs.simulator\",wires=latent_dimensionality,gpu=True)"
   ]
  },
  {
   "cell_type": "code",
   "execution_count": 281,
   "id": "alike-begin",
   "metadata": {},
   "outputs": [],
   "source": [
    "def state_preparation(latent_variables):\n",
    "    for i in range(len(latent_variables)):\n",
    "        qml.RX(latent_variables[i],wires=i)"
   ]
  },
  {
   "cell_type": "code",
   "execution_count": 282,
   "id": "alert-cooper",
   "metadata": {},
   "outputs": [],
   "source": [
    "def layer(W):\n",
    "    num_wires=len(W)\n",
    "    for i in range(num_wires):\n",
    "        random_rot=np.random.choice([qml.RX,qml.RY,qml.RZ])\n",
    "        random_rot(W[i],wires=i)\n",
    "        \n",
    "    for i in range(num_wires-1):\n",
    "        qml.CNOT(wires=[i,i+1])\n",
    "        "
   ]
  },
  {
   "cell_type": "code",
   "execution_count": 283,
   "id": "worse-biotechnology",
   "metadata": {},
   "outputs": [],
   "source": [
    "@qml.qnode(dev,interface='torch')\n",
    "def variational_circuit(latent_variables,weights):\n",
    "    # The number of wires is exactly equal to \n",
    "    # the dimensionality of the latent variables.\n",
    "    \n",
    "    state_preparation(latent_variables)\n",
    "\n",
    "    for W in weights:\n",
    "        layer(W)\n",
    "    \n",
    "    return [qml.expval(qml.PauliZ(i)) for i in range(len(latent_variables))]"
   ]
  },
  {
   "cell_type": "markdown",
   "id": "instructional-scroll",
   "metadata": {},
   "source": [
    "# We test our variational circuit by generating random variables and a glorot uniform distributed weights array, and drawing the circuit and evaluating it. "
   ]
  },
  {
   "cell_type": "code",
   "execution_count": 284,
   "id": "sudden-quilt",
   "metadata": {},
   "outputs": [
    {
     "data": {
      "text/plain": [
       "array([ 1.57602721, -2.8701105 ])"
      ]
     },
     "execution_count": 284,
     "metadata": {},
     "output_type": "execute_result"
    }
   ],
   "source": [
    "latent_variables=scinp.random.uniform(-np.pi,np.pi,size=(latent_dimensionality,))\n",
    "latent_variables"
   ]
  },
  {
   "cell_type": "code",
   "execution_count": 285,
   "id": "automatic-bronze",
   "metadata": {},
   "outputs": [],
   "source": [
    "num_layers=2"
   ]
  },
  {
   "cell_type": "code",
   "execution_count": 286,
   "id": "scientific-arrest",
   "metadata": {},
   "outputs": [
    {
     "data": {
      "text/plain": [
       "tensor([[-1.1391, -0.2466],\n",
       "        [-0.1945, -1.1888]])"
      ]
     },
     "execution_count": 286,
     "metadata": {},
     "output_type": "execute_result"
    }
   ],
   "source": [
    "W=torch.empty(num_layers,latent_dimensionality)\n",
    "W=xavier_uniform_(W)\n",
    "W"
   ]
  },
  {
   "cell_type": "code",
   "execution_count": 287,
   "id": "golden-campus",
   "metadata": {},
   "outputs": [],
   "source": [
    "drawer=qml.draw(variational_circuit)"
   ]
  },
  {
   "cell_type": "code",
   "execution_count": 288,
   "id": "after-pointer",
   "metadata": {},
   "outputs": [
    {
     "name": "stdout",
     "output_type": "stream",
     "text": [
      " 0: ──RX(1.58)───RZ(-1.14)───╭C──RX(-0.195)──╭C──┤ ⟨Z⟩ \n",
      " 1: ──RX(-2.87)──RZ(-0.247)──╰X──RY(-1.19)───╰X──┤ ⟨Z⟩ \n",
      "\n"
     ]
    }
   ],
   "source": [
    "# We draw the circuit. \n",
    "variational_circuit(latent_variables,W)\n",
    "print(variational_circuit.draw())"
   ]
  },
  {
   "cell_type": "code",
   "execution_count": 289,
   "id": "varying-colon",
   "metadata": {},
   "outputs": [
    {
     "data": {
      "text/plain": [
       "tensor([ 0.9082, -0.5858], dtype=torch.float64)"
      ]
     },
     "execution_count": 289,
     "metadata": {},
     "output_type": "execute_result"
    }
   ],
   "source": [
    "variational_circuit(latent_variables,W)"
   ]
  },
  {
   "cell_type": "markdown",
   "id": "remarkable-device",
   "metadata": {},
   "source": [
    "# We have shown that the code for the variational circuit is working correctly. We can now proceed with the rest of the algorithm. "
   ]
  },
  {
   "cell_type": "code",
   "execution_count": 290,
   "id": "banned-services",
   "metadata": {},
   "outputs": [],
   "source": [
    "# We define the Torch generator now."
   ]
  },
  {
   "cell_type": "code",
   "execution_count": 291,
   "id": "gross-framing",
   "metadata": {},
   "outputs": [
    {
     "name": "stdout",
     "output_type": "stream",
     "text": [
      "Using cuda:0 device\n"
     ]
    }
   ],
   "source": [
    "device = torch.device(\"cuda:0\" if torch.cuda.is_available() else \"cpu\")\n",
    "print(\"Using {} device\".format(device))"
   ]
  },
  {
   "cell_type": "code",
   "execution_count": 296,
   "id": "interior-failure",
   "metadata": {},
   "outputs": [],
   "source": [
    "class QuantumGenerator(nn.Module):\n",
    "    \n",
    "    def __init__(self,variational_quantum_circuit,latent_dim,num_layers,upscaling_dimension):\n",
    "        super(QuantumGenerator,self).__init__()\n",
    "        \n",
    "        self.latent_dim=latent_dim\n",
    "        # We initalize and store the quantum classifier's weights\n",
    "        W=torch.empty(num_layers,latent_dim)\n",
    "        W=xavier_uniform_(W)\n",
    "        self.quantum_weights=W\n",
    "        \n",
    "        # We store the quantum classifier\n",
    "        self.vqc=variational_quantum_circuit\n",
    "                \n",
    "        # We define the upscaling layer, and we initialize it using the \n",
    "        # glorot uniform weight initialization\n",
    "        self.upscaling_layer=nn.Linear(latent_dim,upscaling_dimension)\n",
    "        xavier_uniform_(self.upscaling_layer.weight)\n",
    "        \n",
    "    def forward(self):\n",
    "        # We define the latent variables, and pass them through a quantum generator.\n",
    "        latent_variables=torch.Tensor(self.latent_dim).uniform_(-np.pi,np.pi).to(device)\n",
    "        quantum_out=torch.Tensor(0,latent_dimensionality).to(device)\n",
    "        exp_val=self.vqc(latent_variables,self.quantum_weights).float().unsqueeze(0).to(device)\n",
    "        quantum_out=torch.cat((quantum_out,exp_val))\n",
    "        generated_sample=self.upscaling_layer(quantum_out)\n",
    "        generated_sample=quantum_out\n",
    "        return generated_sample"
   ]
  },
  {
   "cell_type": "code",
   "execution_count": 297,
   "id": "remarkable-sacramento",
   "metadata": {},
   "outputs": [],
   "source": [
    "quantum_gen=QuantumGenerator(variational_circuit,latent_dimensionality,num_layers,4)\n",
    "quantum_gen=quantum_gen.to(device)"
   ]
  },
  {
   "cell_type": "code",
   "execution_count": 299,
   "id": "concrete-demographic",
   "metadata": {},
   "outputs": [
    {
     "data": {
      "text/plain": [
       "tensor([[-0.4486, -0.4299]], device='cuda:0')"
      ]
     },
     "execution_count": 299,
     "metadata": {},
     "output_type": "execute_result"
    }
   ],
   "source": [
    "quantum_gen.forward()"
   ]
  },
  {
   "cell_type": "code",
   "execution_count": null,
   "id": "robust-terminology",
   "metadata": {},
   "outputs": [],
   "source": []
  }
 ],
 "metadata": {
  "kernelspec": {
   "display_name": "Python 3",
   "language": "python",
   "name": "python3"
  },
  "language_info": {
   "codemirror_mode": {
    "name": "ipython",
    "version": 3
   },
   "file_extension": ".py",
   "mimetype": "text/x-python",
   "name": "python",
   "nbconvert_exporter": "python",
   "pygments_lexer": "ipython3",
   "version": "3.8.5"
  }
 },
 "nbformat": 4,
 "nbformat_minor": 5
}
