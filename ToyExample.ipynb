{
 "cells": [
  {
   "cell_type": "code",
   "execution_count": 64,
   "id": "controversial-accessory",
   "metadata": {},
   "outputs": [],
   "source": [
    "import pennylane as qml \n",
    "from pennylane import numpy as np \n",
    "import numpy as scinp \n",
    "import matplotlib.pyplot as plt \n",
    "plt.rcParams['figure.figsize'] = [10, 10]\n",
    "import torch\n",
    "from torch.nn.init import xavier_uniform_"
   ]
  },
  {
   "cell_type": "markdown",
   "id": "external-milwaukee",
   "metadata": {},
   "source": [
    "# We create some toy data to test the anomaly detection algorithm ."
   ]
  },
  {
   "cell_type": "code",
   "execution_count": 65,
   "id": "computational-penalty",
   "metadata": {},
   "outputs": [
    {
     "data": {
      "image/png": "[encoded data removed]",
      "text/plain": [
       "<Figure size 720x720 with 1 Axes>"
      ]
     },
     "metadata": {
      "needs_background": "light"
     },
     "output_type": "display_data"
    }
   ],
   "source": [
    "fig,ax=plt.subplots()\n",
    "X_normal=scinp.random.uniform(low=-1,high=1,size=(100,2))\n",
    "y_normal=scinp.ones(100)\n",
    "X_anomalous=scinp.random.uniform(low=3,high=5,size=(50,2))+2\n",
    "y_anomalous=scinp.ones(50)*-1\n",
    "plt.scatter(X_normal[:,0],X_normal[:,1],label='normal')\n",
    "plt.scatter(X_anomalous[:,0],X_anomalous[:,1],label='anomalous')\n",
    "ax.legend()\n",
    "ax.grid(True)\n",
    "plt.show()"
   ]
  },
  {
   "cell_type": "markdown",
   "id": "available-problem",
   "metadata": {},
   "source": [
    "# We now code up the quantum generator in the algorithm. To do this, we need to create three separate functions: \n",
    "# (1) The state preparation function. This takes in N latent variables, and encodes them in a quantum state using N single qubit Rx rotations on each latent variable.\n",
    "# (2) The variational circuit function. This function first encodes the data using the state preparation function, and then applies layers of qubit operations, with the layers consisting of single qubit rotations sampled uniformly from the {Rx,Ry,Rz} rotations, and CNOT gates. At the end of the variational circuit, every qubit is measured using the Pauli Z observables.\n",
    "# (3) The classical upscaling layer. This function simply appends a layer to the variational circuit which upscales the dimensionality of the circuit output to the dimensionality of the dataset, and it features a sigmoid activation function."
   ]
  },
  {
   "cell_type": "code",
   "execution_count": 66,
   "id": "stretch-joseph",
   "metadata": {},
   "outputs": [],
   "source": [
    "latent_dimensionality=2"
   ]
  },
  {
   "cell_type": "code",
   "execution_count": 67,
   "id": "secure-rugby",
   "metadata": {},
   "outputs": [],
   "source": [
    "dev=qml.device(\"default.qubit\",wires=latent_dimensionality)"
   ]
  },
  {
   "cell_type": "code",
   "execution_count": 68,
   "id": "mexican-arbitration",
   "metadata": {},
   "outputs": [],
   "source": [
    "def state_preparation(latent_variables):\n",
    "    for i in range(len(latent_variables)):\n",
    "        qml.RX(latent_variables[i],wires=i)"
   ]
  },
  {
   "cell_type": "code",
   "execution_count": 69,
   "id": "pediatric-northern",
   "metadata": {},
   "outputs": [],
   "source": [
    "def layer(W):\n",
    "    num_wires=len(W)\n",
    "    for i in range(num_wires):\n",
    "        random_rot=np.random.choice([qml.RX,qml.RY,qml.RZ])\n",
    "        random_rot(W[i],wires=i)\n",
    "        \n",
    "    for i in range(num_wires-1):\n",
    "        qml.CNOT(wires=[i,i+1])\n",
    "        "
   ]
  },
  {
   "cell_type": "code",
   "execution_count": 70,
   "id": "upper-fossil",
   "metadata": {},
   "outputs": [],
   "source": [
    "@qml.qnode(dev,interface='torch')\n",
    "def variational_circuit(latent_variables,weights):\n",
    "    # The number of wires is exactly equal to \n",
    "    # the dimensionality of the latent variables.\n",
    "    \n",
    "    state_preparation(latent_variables)\n",
    "\n",
    "    for W in weights:\n",
    "        layer(W)\n",
    "    \n",
    "    return [qml.expval(qml.PauliZ(i)) for i in range(len(latent_variables))]"
   ]
  },
  {
   "cell_type": "markdown",
   "id": "corresponding-cause",
   "metadata": {},
   "source": [
    "# We test our variational circuit by generating random variables and a glorot uniform distributed weights array, and drawing the circuit and evaluating it. "
   ]
  },
  {
   "cell_type": "code",
   "execution_count": 71,
   "id": "informational-visitor",
   "metadata": {},
   "outputs": [
    {
     "data": {
      "text/plain": [
       "array([ 2.02773238, -0.57413585])"
      ]
     },
     "execution_count": 71,
     "metadata": {},
     "output_type": "execute_result"
    }
   ],
   "source": [
    "latent_variables=scinp.random.uniform(-np.pi,np.pi,size=(2,))\n",
    "latent_variables"
   ]
  },
  {
   "cell_type": "code",
   "execution_count": 72,
   "id": "female-colonial",
   "metadata": {},
   "outputs": [],
   "source": [
    "num_layers=2"
   ]
  },
  {
   "cell_type": "code",
   "execution_count": 73,
   "id": "resident-nicholas",
   "metadata": {},
   "outputs": [
    {
     "data": {
      "text/plain": [
       "tensor([[ 0.9141, -0.1905],\n",
       "        [ 0.4526, -0.3720]])"
      ]
     },
     "execution_count": 73,
     "metadata": {},
     "output_type": "execute_result"
    }
   ],
   "source": [
    "W=torch.empty(num_layers,latent_dimensionality)\n",
    "W=xavier_uniform_(W)\n",
    "W"
   ]
  },
  {
   "cell_type": "code",
   "execution_count": 74,
   "id": "postal-andrew",
   "metadata": {},
   "outputs": [],
   "source": [
    "drawer=qml.draw(variational_circuit)"
   ]
  },
  {
   "cell_type": "code",
   "execution_count": 75,
   "id": "adaptive-lightweight",
   "metadata": {},
   "outputs": [
    {
     "name": "stdout",
     "output_type": "stream",
     "text": [
      " 0: ──RX(2.03)────RZ(0.914)──╭C──RY(0.453)───╭C──┤ ⟨Z⟩ \n",
      " 1: ──RX(-0.574)──RY(-0.19)──╰X──RY(-0.372)──╰X──┤ ⟨Z⟩ \n",
      "\n"
     ]
    }
   ],
   "source": [
    "# We draw the circuit. \n",
    "variational_circuit(latent_variables,W)\n",
    "print(variational_circuit.draw())"
   ]
  },
  {
   "cell_type": "code",
   "execution_count": 76,
   "id": "collective-expense",
   "metadata": {},
   "outputs": [
    {
     "data": {
      "text/plain": [
       "tensor([-0.8903,  0.6390], dtype=torch.float64)"
      ]
     },
     "execution_count": 76,
     "metadata": {},
     "output_type": "execute_result"
    }
   ],
   "source": [
    "variational_circuit(latent_variables,W)"
   ]
  },
  {
   "cell_type": "markdown",
   "id": "insured-nothing",
   "metadata": {},
   "source": [
    "# We have shown that the code for the variational circuit is working correctly. We can now proceed with the rest of the algorithm. "
   ]
  },
  {
   "cell_type": "code",
   "execution_count": null,
   "id": "private-heavy",
   "metadata": {},
   "outputs": [],
   "source": []
  }
 ],
 "metadata": {
  "kernelspec": {
   "display_name": "Python 3",
   "language": "python",
   "name": "python3"
  },
  "language_info": {
   "codemirror_mode": {
    "name": "ipython",
    "version": 3
   },
   "file_extension": ".py",
   "mimetype": "text/x-python",
   "name": "python",
   "nbconvert_exporter": "python",
   "pygments_lexer": "ipython3",
   "version": "3.8.5"
  }
 },
 "nbformat": 4,
 "nbformat_minor": 5
}
