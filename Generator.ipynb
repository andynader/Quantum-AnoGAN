{
 "cells": [
  {
   "cell_type": "code",
   "execution_count": 3,
   "id": "casual-plumbing",
   "metadata": {},
   "outputs": [],
   "source": [
    "import pennylane as qml \n",
    "from pennylane import numpy as np \n",
    "import numpy as scinp \n",
    "import matplotlib.pyplot as plt \n",
    "plt.rcParams['figure.figsize'] = [10, 10]\n",
    "import torch\n",
    "from torch.nn.init import xavier_uniform_\n",
    "from torch import nn "
   ]
  },
  {
   "cell_type": "code",
   "execution_count": 4,
   "id": "synthetic-prior",
   "metadata": {},
   "outputs": [],
   "source": [
    "latent_dimensionality=2"
   ]
  },
  {
   "cell_type": "code",
   "execution_count": 5,
   "id": "narrative-mozambique",
   "metadata": {},
   "outputs": [],
   "source": [
    "dev=qml.device(\"qulacs.simulator\",wires=latent_dimensionality,gpu=True)"
   ]
  },
  {
   "cell_type": "code",
   "execution_count": 6,
   "id": "happy-printing",
   "metadata": {},
   "outputs": [],
   "source": [
    "def state_preparation(latent_variables):\n",
    "    for i in range(len(latent_variables)):\n",
    "        qml.RX(latent_variables[i],wires=i)"
   ]
  },
  {
   "cell_type": "code",
   "execution_count": 7,
   "id": "specialized-rocket",
   "metadata": {},
   "outputs": [],
   "source": [
    "def layer(W):\n",
    "    num_wires=len(W)\n",
    "    for i in range(num_wires):\n",
    "        random_rot=np.random.choice([qml.RX,qml.RY,qml.RZ])\n",
    "        random_rot(W[i],wires=i)\n",
    "        \n",
    "    for i in range(num_wires-1):\n",
    "        qml.CNOT(wires=[i,i+1])\n",
    "        "
   ]
  },
  {
   "cell_type": "code",
   "execution_count": 8,
   "id": "imperial-garage",
   "metadata": {},
   "outputs": [],
   "source": [
    "@qml.qnode(dev,interface='torch')\n",
    "def variational_circuit(latent_variables,weights):\n",
    "    # The number of wires is exactly equal to \n",
    "    # the dimensionality of the latent variables.\n",
    "    \n",
    "    state_preparation(latent_variables)\n",
    "\n",
    "    for W in weights:\n",
    "        layer(W)\n",
    "    \n",
    "    return [qml.expval(qml.PauliZ(i)) for i in range(len(latent_variables))]"
   ]
  },
  {
   "cell_type": "markdown",
   "id": "understood-bullet",
   "metadata": {},
   "source": [
    "# We test our variational circuit by generating random variables and a glorot uniform distributed weights array, and drawing the circuit and evaluating it. "
   ]
  },
  {
   "cell_type": "code",
   "execution_count": 9,
   "id": "documented-register",
   "metadata": {},
   "outputs": [
    {
     "data": {
      "text/plain": [
       "array([0.18158041, 1.69477679])"
      ]
     },
     "execution_count": 9,
     "metadata": {},
     "output_type": "execute_result"
    }
   ],
   "source": [
    "latent_variables=scinp.random.uniform(-np.pi,np.pi,size=(latent_dimensionality,))\n",
    "latent_variables"
   ]
  },
  {
   "cell_type": "code",
   "execution_count": 10,
   "id": "immune-caribbean",
   "metadata": {},
   "outputs": [],
   "source": [
    "num_layers=2"
   ]
  },
  {
   "cell_type": "code",
   "execution_count": 11,
   "id": "assisted-knitting",
   "metadata": {},
   "outputs": [
    {
     "data": {
      "text/plain": [
       "tensor([[ 0.5923,  0.2291],\n",
       "        [-0.8256,  0.0123]])"
      ]
     },
     "execution_count": 11,
     "metadata": {},
     "output_type": "execute_result"
    }
   ],
   "source": [
    "W=torch.empty(num_layers,latent_dimensionality)\n",
    "W=xavier_uniform_(W)\n",
    "W"
   ]
  },
  {
   "cell_type": "code",
   "execution_count": 12,
   "id": "pregnant-berkeley",
   "metadata": {},
   "outputs": [],
   "source": [
    "drawer=qml.draw(variational_circuit)"
   ]
  },
  {
   "cell_type": "code",
   "execution_count": 13,
   "id": "mysterious-cloud",
   "metadata": {},
   "outputs": [
    {
     "name": "stdout",
     "output_type": "stream",
     "text": [
      " 0: ──RX(0.182)──RZ(0.592)──╭C──RZ(-0.826)──╭C──┤ ⟨Z⟩ \n",
      " 1: ──RX(1.69)───RZ(0.229)──╰X──RZ(0.0123)──╰X──┤ ⟨Z⟩ \n",
      "\n"
     ]
    }
   ],
   "source": [
    "# We draw the circuit. \n",
    "variational_circuit(latent_variables,W)\n",
    "print(variational_circuit.draw())"
   ]
  },
  {
   "cell_type": "code",
   "execution_count": 14,
   "id": "marked-flight",
   "metadata": {},
   "outputs": [
    {
     "data": {
      "text/plain": [
       "tensor([ 0.4850, -0.2408], dtype=torch.float64)"
      ]
     },
     "execution_count": 14,
     "metadata": {},
     "output_type": "execute_result"
    }
   ],
   "source": [
    "variational_circuit(latent_variables,W)"
   ]
  },
  {
   "cell_type": "markdown",
   "id": "seven-basics",
   "metadata": {},
   "source": [
    "# We have shown that the code for the variational circuit is working correctly. We can now proceed with the rest of the algorithm. "
   ]
  },
  {
   "cell_type": "code",
   "execution_count": 15,
   "id": "terminal-vietnam",
   "metadata": {},
   "outputs": [],
   "source": [
    "# We define the Torch generator now."
   ]
  },
  {
   "cell_type": "code",
   "execution_count": 24,
   "id": "spiritual-employer",
   "metadata": {},
   "outputs": [
    {
     "name": "stdout",
     "output_type": "stream",
     "text": [
      "Using cuda:0 device\n"
     ]
    }
   ],
   "source": [
    "device = torch.device(\"cuda:0\" if torch.cuda.is_available() else \"cpu\")\n",
    "print(\"Using {} device\".format(device))"
   ]
  },
  {
   "cell_type": "code",
   "execution_count": 150,
   "id": "impressed-stuff",
   "metadata": {},
   "outputs": [],
   "source": [
    "class QuantumGenerator(nn.Module):\n",
    "    \n",
    "    def __init__(self,variational_quantum_circuit,latent_dim,num_layers,upscaling_dimension,device):\n",
    "        super(QuantumGenerator,self).__init__()\n",
    "        \n",
    "        self.device=device\n",
    "        self.latent_dim=latent_dim\n",
    "        # We initalize and store the quantum classifier's weights\n",
    "        W=torch.Tensor(num_layers,latent_dim).uniform_(-np.pi,np.pi).to(self.device)\n",
    "        \n",
    "        # We specify that the quantum classifier weights parameters of the \n",
    "        # hybrid quantum classical generator, and thus should be differentiated.\n",
    "        \n",
    "        self.quantum_weights=nn.Parameter(W)\n",
    "        \n",
    "        # We store the quantum classifier\n",
    "        self.vqc=variational_quantum_circuit\n",
    "                \n",
    "        # We define the upscaling layer, and we initialize it using the \n",
    "        # glorot uniform weight initialization\n",
    "        self.upscaling_layer=nn.Linear(latent_dim,upscaling_dimension)\n",
    "        xavier_uniform_(self.upscaling_layer.weight)\n",
    "        \n",
    "    def forward(self):\n",
    "        # We define the latent variables, and pass them through a quantum generator.\n",
    "        latent_variables=torch.Tensor(self.latent_dim).uniform_(-np.pi,np.pi).to(self.device)\n",
    "        quantum_out=torch.Tensor(0,latent_dimensionality).to(self.device)\n",
    "        exp_val=self.vqc(latent_variables,self.quantum_weights).float().unsqueeze(0).to(self.device)\n",
    "        quantum_out=torch.cat((quantum_out,exp_val))\n",
    "        generated_sample=self.upscaling_layer(quantum_out)\n",
    "        return generated_sample"
   ]
  },
  {
   "cell_type": "code",
   "execution_count": 151,
   "id": "rational-titanium",
   "metadata": {},
   "outputs": [],
   "source": [
    "quantum_gen=QuantumGenerator(variational_circuit,latent_dimensionality,num_layers,4,device=device)\n",
    "quantum_gen=quantum_gen.to(device)"
   ]
  },
  {
   "cell_type": "code",
   "execution_count": 152,
   "id": "dangerous-governor",
   "metadata": {},
   "outputs": [
    {
     "data": {
      "text/plain": [
       "tensor([[ 0.1802, -0.4891, -0.6844, -0.4800]], device='cuda:0',\n",
       "       grad_fn=<AddmmBackward>)"
      ]
     },
     "execution_count": 152,
     "metadata": {},
     "output_type": "execute_result"
    }
   ],
   "source": [
    "quantum_gen()"
   ]
  },
  {
   "cell_type": "code",
   "execution_count": null,
   "id": "contained-finding",
   "metadata": {},
   "outputs": [],
   "source": []
  },
  {
   "cell_type": "code",
   "execution_count": null,
   "id": "fiscal-simpson",
   "metadata": {},
   "outputs": [],
   "source": []
  },
  {
   "cell_type": "code",
   "execution_count": null,
   "id": "sacred-compilation",
   "metadata": {},
   "outputs": [],
   "source": []
  },
  {
   "cell_type": "code",
   "execution_count": null,
   "id": "impaired-answer",
   "metadata": {},
   "outputs": [],
   "source": []
  },
  {
   "cell_type": "code",
   "execution_count": null,
   "id": "institutional-civilian",
   "metadata": {},
   "outputs": [],
   "source": []
  },
  {
   "cell_type": "code",
   "execution_count": null,
   "id": "centered-villa",
   "metadata": {},
   "outputs": [],
   "source": []
  },
  {
   "cell_type": "markdown",
   "id": "sexual-burlington",
   "metadata": {},
   "source": [
    "# We now try backpropagation with respect to some toy function to make sure that we know how to differentiate properly."
   ]
  },
  {
   "cell_type": "code",
   "execution_count": 171,
   "id": "civic-saver",
   "metadata": {},
   "outputs": [
    {
     "data": {
      "text/plain": [
       "tensor([[ 1.5754, -0.1351, -4.5541, -0.1572]], device='cuda:0')"
      ]
     },
     "execution_count": 171,
     "metadata": {},
     "output_type": "execute_result"
    }
   ],
   "source": [
    "y_true=torch.Tensor(1,4).uniform_(-5,5).to(device)\n",
    "y_true"
   ]
  },
  {
   "cell_type": "code",
   "execution_count": 172,
   "id": "accredited-decrease",
   "metadata": {},
   "outputs": [],
   "source": [
    "y_pred=quantum_gen()"
   ]
  },
  {
   "cell_type": "code",
   "execution_count": 173,
   "id": "animated-satisfaction",
   "metadata": {},
   "outputs": [],
   "source": [
    "loss=nn.functional.mse_loss(input=y_pred,target=y_true)"
   ]
  },
  {
   "cell_type": "markdown",
   "id": "former-story",
   "metadata": {},
   "source": [
    "# We backpropagate through the loss, and we print the gradients "
   ]
  },
  {
   "cell_type": "code",
   "execution_count": 174,
   "id": "sexual-holiday",
   "metadata": {},
   "outputs": [],
   "source": [
    "loss.backward()"
   ]
  },
  {
   "cell_type": "code",
   "execution_count": 175,
   "id": "committed-membership",
   "metadata": {},
   "outputs": [
    {
     "data": {
      "text/plain": [
       "tensor([[ 0.1520, -0.1749],\n",
       "        [-0.3906, -0.3919]], device='cuda:0')"
      ]
     },
     "execution_count": 175,
     "metadata": {},
     "output_type": "execute_result"
    }
   ],
   "source": [
    "quantum_gen.quantum_weights.grad"
   ]
  },
  {
   "cell_type": "code",
   "execution_count": 176,
   "id": "small-firewall",
   "metadata": {},
   "outputs": [
    {
     "data": {
      "text/plain": [
       "tensor([[ 0.5305,  1.2410],\n",
       "        [-0.0924, -0.1684],\n",
       "        [-0.2199, -0.9880],\n",
       "        [-0.2285, -0.4156]], device='cuda:0')"
      ]
     },
     "execution_count": 176,
     "metadata": {},
     "output_type": "execute_result"
    }
   ],
   "source": [
    "quantum_gen.upscaling_layer.weight.grad"
   ]
  },
  {
   "cell_type": "markdown",
   "id": "phantom-introduction",
   "metadata": {},
   "source": [
    "# We print the parameters of our hybrid quantum classical generator."
   ]
  },
  {
   "cell_type": "code",
   "execution_count": 177,
   "id": "fatal-northwest",
   "metadata": {},
   "outputs": [
    {
     "data": {
      "text/plain": [
       "Parameter containing:\n",
       "tensor([[-2.9180,  0.7102],\n",
       "        [-2.4981, -1.8172]], device='cuda:0', requires_grad=True)"
      ]
     },
     "execution_count": 177,
     "metadata": {},
     "output_type": "execute_result"
    }
   ],
   "source": [
    "quantum_gen.quantum_weights"
   ]
  },
  {
   "cell_type": "code",
   "execution_count": 178,
   "id": "supposed-sweet",
   "metadata": {},
   "outputs": [
    {
     "data": {
      "text/plain": [
       "Parameter containing:\n",
       "tensor([[-0.2530,  0.5513],\n",
       "        [ 0.8976, -0.0697],\n",
       "        [-0.1233,  0.4509],\n",
       "        [ 0.2927,  0.5057]], device='cuda:0', requires_grad=True)"
      ]
     },
     "execution_count": 178,
     "metadata": {},
     "output_type": "execute_result"
    }
   ],
   "source": [
    "quantum_gen.upscaling_layer.weight"
   ]
  },
  {
   "cell_type": "code",
   "execution_count": 179,
   "id": "commercial-camel",
   "metadata": {},
   "outputs": [
    {
     "data": {
      "text/plain": [
       "Parameter containing:\n",
       "tensor([ 0.3387, -0.1954, -0.5275, -0.1468], device='cuda:0',\n",
       "       requires_grad=True)"
      ]
     },
     "execution_count": 179,
     "metadata": {},
     "output_type": "execute_result"
    }
   ],
   "source": [
    "quantum_gen.upscaling_layer.bias"
   ]
  },
  {
   "cell_type": "code",
   "execution_count": 180,
   "id": "public-maria",
   "metadata": {},
   "outputs": [
    {
     "data": {
      "text/plain": [
       "[Parameter containing:\n",
       " tensor([[-2.9180,  0.7102],\n",
       "         [-2.4981, -1.8172]], device='cuda:0', requires_grad=True),\n",
       " Parameter containing:\n",
       " tensor([[-0.2530,  0.5513],\n",
       "         [ 0.8976, -0.0697],\n",
       "         [-0.1233,  0.4509],\n",
       "         [ 0.2927,  0.5057]], device='cuda:0', requires_grad=True),\n",
       " Parameter containing:\n",
       " tensor([ 0.3387, -0.1954, -0.5275, -0.1468], device='cuda:0',\n",
       "        requires_grad=True)]"
      ]
     },
     "execution_count": 180,
     "metadata": {},
     "output_type": "execute_result"
    }
   ],
   "source": [
    "list(quantum_gen.parameters())"
   ]
  },
  {
   "cell_type": "markdown",
   "id": "protecting-modem",
   "metadata": {},
   "source": [
    "# We saw in the previous cells that the parameters obtained by calling quantum_gen.parameters() are exactly those we want to optimize, including those of the quantum circuit. We can now feel comfortable using the torch ADAM optimizer to step."
   ]
  },
  {
   "cell_type": "code",
   "execution_count": 181,
   "id": "numerous-auction",
   "metadata": {},
   "outputs": [],
   "source": [
    "optimizer=torch.optim.Adam(quantum_gen.parameters())"
   ]
  },
  {
   "cell_type": "code",
   "execution_count": 182,
   "id": "ideal-organization",
   "metadata": {},
   "outputs": [],
   "source": [
    "optimizer.step()"
   ]
  },
  {
   "cell_type": "markdown",
   "id": "automated-ukraine",
   "metadata": {},
   "source": [
    "# We print the new parameters."
   ]
  },
  {
   "cell_type": "code",
   "execution_count": 183,
   "id": "eleven-warning",
   "metadata": {},
   "outputs": [
    {
     "data": {
      "text/plain": [
       "[Parameter containing:\n",
       " tensor([[-2.9190,  0.7112],\n",
       "         [-2.4971, -1.8162]], device='cuda:0', requires_grad=True),\n",
       " Parameter containing:\n",
       " tensor([[-0.2540,  0.5503],\n",
       "         [ 0.8986, -0.0687],\n",
       "         [-0.1223,  0.4519],\n",
       "         [ 0.2937,  0.5067]], device='cuda:0', requires_grad=True),\n",
       " Parameter containing:\n",
       " tensor([ 0.3397, -0.1964, -0.5285, -0.1478], device='cuda:0',\n",
       "        requires_grad=True)]"
      ]
     },
     "execution_count": 183,
     "metadata": {},
     "output_type": "execute_result"
    }
   ],
   "source": [
    "list(quantum_gen.parameters())"
   ]
  },
  {
   "cell_type": "code",
   "execution_count": null,
   "id": "responsible-ebony",
   "metadata": {},
   "outputs": [],
   "source": []
  }
 ],
 "metadata": {
  "kernelspec": {
   "display_name": "Python 3",
   "language": "python",
   "name": "python3"
  },
  "language_info": {
   "codemirror_mode": {
    "name": "ipython",
    "version": 3
   },
   "file_extension": ".py",
   "mimetype": "text/x-python",
   "name": "python",
   "nbconvert_exporter": "python",
   "pygments_lexer": "ipython3",
   "version": "3.8.5"
  }
 },
 "nbformat": 4,
 "nbformat_minor": 5
}
