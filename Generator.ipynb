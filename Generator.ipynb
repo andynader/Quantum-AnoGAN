{
 "cells": [
  {
   "cell_type": "code",
   "execution_count": 2,
   "id": "complete-orlando",
   "metadata": {},
   "outputs": [],
   "source": [
    "import pennylane as qml \n",
    "from pennylane import numpy as np \n",
    "import numpy as scinp \n",
    "import matplotlib.pyplot as plt \n",
    "plt.rcParams['figure.figsize'] = [10, 10]\n",
    "import torch\n",
    "from torch.nn.init import xavier_uniform_\n",
    "from torch import nn "
   ]
  },
  {
   "cell_type": "code",
   "execution_count": 3,
   "id": "unauthorized-chinese",
   "metadata": {},
   "outputs": [],
   "source": [
    "latent_dimensionality=2"
   ]
  },
  {
   "cell_type": "code",
   "execution_count": 4,
   "id": "taken-exclusive",
   "metadata": {},
   "outputs": [],
   "source": [
    "dev=qml.device(\"qulacs.simulator\",wires=latent_dimensionality,gpu=True)"
   ]
  },
  {
   "cell_type": "code",
   "execution_count": 5,
   "id": "featured-theology",
   "metadata": {},
   "outputs": [],
   "source": [
    "def state_preparation(latent_variables):\n",
    "    for i in range(len(latent_variables)):\n",
    "        qml.RX(latent_variables[i],wires=i)"
   ]
  },
  {
   "cell_type": "code",
   "execution_count": 6,
   "id": "corresponding-reflection",
   "metadata": {},
   "outputs": [],
   "source": [
    "def layer(W):\n",
    "    num_wires=len(W)\n",
    "    for i in range(num_wires):\n",
    "        random_rot=np.random.choice([qml.RX,qml.RY,qml.RZ])\n",
    "        random_rot(W[i],wires=i)\n",
    "        \n",
    "    for i in range(num_wires-1):\n",
    "        qml.CNOT(wires=[i,i+1])\n",
    "        "
   ]
  },
  {
   "cell_type": "code",
   "execution_count": 7,
   "id": "unsigned-aquatic",
   "metadata": {},
   "outputs": [],
   "source": [
    "@qml.qnode(dev,interface='torch')\n",
    "def variational_circuit(latent_variables,weights):\n",
    "    # The number of wires is exactly equal to \n",
    "    # the dimensionality of the latent variables.\n",
    "    \n",
    "    state_preparation(latent_variables)\n",
    "\n",
    "    for W in weights:\n",
    "        layer(W)\n",
    "    \n",
    "    return [qml.expval(qml.PauliZ(i)) for i in range(len(latent_variables))]"
   ]
  },
  {
   "cell_type": "markdown",
   "id": "logical-condition",
   "metadata": {},
   "source": [
    "# We test our variational circuit by generating random variables and a glorot uniform distributed weights array, and drawing the circuit and evaluating it. "
   ]
  },
  {
   "cell_type": "code",
   "execution_count": 8,
   "id": "incomplete-reserve",
   "metadata": {},
   "outputs": [
    {
     "data": {
      "text/plain": [
       "array([-1.1431329 ,  2.98086657])"
      ]
     },
     "execution_count": 8,
     "metadata": {},
     "output_type": "execute_result"
    }
   ],
   "source": [
    "latent_variables=scinp.random.uniform(-np.pi,np.pi,size=(latent_dimensionality,))\n",
    "latent_variables"
   ]
  },
  {
   "cell_type": "code",
   "execution_count": 9,
   "id": "hispanic-identification",
   "metadata": {},
   "outputs": [],
   "source": [
    "num_layers=2"
   ]
  },
  {
   "cell_type": "code",
   "execution_count": 10,
   "id": "olive-governor",
   "metadata": {},
   "outputs": [
    {
     "data": {
      "text/plain": [
       "tensor([[ 0.2549,  0.2910],\n",
       "        [-0.4595,  0.2508]])"
      ]
     },
     "execution_count": 10,
     "metadata": {},
     "output_type": "execute_result"
    }
   ],
   "source": [
    "W=torch.empty(num_layers,latent_dimensionality)\n",
    "W=xavier_uniform_(W)\n",
    "W"
   ]
  },
  {
   "cell_type": "code",
   "execution_count": 11,
   "id": "interested-variety",
   "metadata": {},
   "outputs": [],
   "source": [
    "drawer=qml.draw(variational_circuit)"
   ]
  },
  {
   "cell_type": "code",
   "execution_count": 12,
   "id": "interested-macintosh",
   "metadata": {},
   "outputs": [
    {
     "name": "stdout",
     "output_type": "stream",
     "text": [
      " 0: ──RX(-1.14)──RY(0.255)──╭C──RY(-0.46)──╭C──┤ ⟨Z⟩ \n",
      " 1: ──RX(2.98)───RX(0.291)──╰X──RX(0.251)──╰X──┤ ⟨Z⟩ \n",
      "\n"
     ]
    }
   ],
   "source": [
    "# We draw the circuit. \n",
    "variational_circuit(latent_variables,W)\n",
    "print(variational_circuit.draw())"
   ]
  },
  {
   "cell_type": "code",
   "execution_count": 13,
   "id": "boxed-handle",
   "metadata": {},
   "outputs": [
    {
     "data": {
      "text/plain": [
       "tensor([ 0.3466, -0.7446], dtype=torch.float64)"
      ]
     },
     "execution_count": 13,
     "metadata": {},
     "output_type": "execute_result"
    }
   ],
   "source": [
    "variational_circuit(latent_variables,W)"
   ]
  },
  {
   "cell_type": "markdown",
   "id": "further-blowing",
   "metadata": {},
   "source": [
    "# We have shown that the code for the variational circuit is working correctly. We can now proceed with the rest of the algorithm. "
   ]
  },
  {
   "cell_type": "code",
   "execution_count": 14,
   "id": "competitive-enzyme",
   "metadata": {},
   "outputs": [],
   "source": [
    "# We define the Torch generator now."
   ]
  },
  {
   "cell_type": "code",
   "execution_count": 15,
   "id": "first-coating",
   "metadata": {},
   "outputs": [
    {
     "name": "stdout",
     "output_type": "stream",
     "text": [
      "Using cuda:0 device\n"
     ]
    }
   ],
   "source": [
    "device = torch.device(\"cuda:0\" if torch.cuda.is_available() else \"cpu\")\n",
    "print(\"Using {} device\".format(device))"
   ]
  },
  {
   "cell_type": "code",
   "execution_count": 16,
   "id": "irish-therapy",
   "metadata": {},
   "outputs": [],
   "source": [
    "class QuantumGenerator(nn.Module):\n",
    "    \n",
    "    def __init__(self,variational_quantum_circuit,latent_dim,num_layers,upscaling_dimension,device):\n",
    "        super(QuantumGenerator,self).__init__()\n",
    "        \n",
    "        self.device=device\n",
    "        self.latent_dim=latent_dim\n",
    "        # We initalize and store the quantum classifier's weights\n",
    "        W=torch.Tensor(num_layers,latent_dim).uniform_(-np.pi,np.pi).to(self.device)\n",
    "        \n",
    "        # We specify that the quantum classifier weights parameters of the \n",
    "        # hybrid quantum classical generator, and thus should be differentiated.\n",
    "        \n",
    "        self.quantum_weights=nn.Parameter(W)\n",
    "        \n",
    "        # We store the quantum classifier\n",
    "        self.vqc=variational_quantum_circuit\n",
    "                \n",
    "        # We define the upscaling layer, and we initialize it using the \n",
    "        # glorot uniform weight initialization\n",
    "        self.upscaling_layer=nn.Linear(latent_dim,upscaling_dimension)\n",
    "        xavier_uniform_(self.upscaling_layer.weight)\n",
    "        \n",
    "    def forward(self):\n",
    "        # We define the latent variables, and pass them through a quantum generator.\n",
    "        latent_variables=torch.Tensor(self.latent_dim).uniform_(-np.pi,np.pi).to(self.device)\n",
    "        quantum_out=torch.Tensor(0,self.latent_dim).to(self.device)\n",
    "        exp_val=self.vqc(latent_variables,self.quantum_weights).float().unsqueeze(0).to(self.device)\n",
    "        quantum_out=torch.cat((quantum_out,exp_val))\n",
    "        generated_sample=self.upscaling_layer(quantum_out)\n",
    "        return generated_sample"
   ]
  },
  {
   "cell_type": "code",
   "execution_count": 17,
   "id": "viral-corporation",
   "metadata": {},
   "outputs": [],
   "source": [
    "quantum_gen=QuantumGenerator(variational_circuit,latent_dimensionality,num_layers,4,device=device)\n",
    "quantum_gen=quantum_gen.to(device)"
   ]
  },
  {
   "cell_type": "code",
   "execution_count": 18,
   "id": "figured-touch",
   "metadata": {},
   "outputs": [
    {
     "data": {
      "text/plain": [
       "tensor([[ 0.7620, -1.0604, -0.4739,  0.1628]], device='cuda:0',\n",
       "       grad_fn=<AddmmBackward>)"
      ]
     },
     "execution_count": 18,
     "metadata": {},
     "output_type": "execute_result"
    }
   ],
   "source": [
    "quantum_gen()"
   ]
  },
  {
   "cell_type": "code",
   "execution_count": null,
   "id": "electoral-consensus",
   "metadata": {},
   "outputs": [],
   "source": []
  },
  {
   "cell_type": "code",
   "execution_count": null,
   "id": "vital-sapphire",
   "metadata": {},
   "outputs": [],
   "source": []
  },
  {
   "cell_type": "code",
   "execution_count": null,
   "id": "stylish-factor",
   "metadata": {},
   "outputs": [],
   "source": []
  },
  {
   "cell_type": "code",
   "execution_count": null,
   "id": "overall-mountain",
   "metadata": {},
   "outputs": [],
   "source": []
  },
  {
   "cell_type": "markdown",
   "id": "certain-notification",
   "metadata": {},
   "source": [
    "# We now try backpropagation with respect to some toy function to make sure that we know how to differentiate properly."
   ]
  },
  {
   "cell_type": "code",
   "execution_count": 19,
   "id": "young-titanium",
   "metadata": {},
   "outputs": [
    {
     "data": {
      "text/plain": [
       "tensor([[-2.1523, -2.5327, -2.5577,  2.1976]], device='cuda:0')"
      ]
     },
     "execution_count": 19,
     "metadata": {},
     "output_type": "execute_result"
    }
   ],
   "source": [
    "y_true=torch.Tensor(1,4).uniform_(-5,5).to(device)\n",
    "y_true"
   ]
  },
  {
   "cell_type": "code",
   "execution_count": 20,
   "id": "guided-index",
   "metadata": {},
   "outputs": [],
   "source": [
    "y_pred=quantum_gen()"
   ]
  },
  {
   "cell_type": "code",
   "execution_count": 21,
   "id": "velvet-incentive",
   "metadata": {},
   "outputs": [],
   "source": [
    "loss=nn.functional.mse_loss(input=y_pred,target=y_true)"
   ]
  },
  {
   "cell_type": "markdown",
   "id": "mediterranean-laptop",
   "metadata": {},
   "source": [
    "# We backpropagate through the loss, and we print the gradients "
   ]
  },
  {
   "cell_type": "code",
   "execution_count": 22,
   "id": "daily-telescope",
   "metadata": {},
   "outputs": [],
   "source": [
    "loss.backward()"
   ]
  },
  {
   "cell_type": "code",
   "execution_count": 23,
   "id": "swedish-vietnamese",
   "metadata": {},
   "outputs": [
    {
     "data": {
      "text/plain": [
       "tensor([[-0.0298, -0.3020],\n",
       "        [-0.2427,  0.3001]], device='cuda:0')"
      ]
     },
     "execution_count": 23,
     "metadata": {},
     "output_type": "execute_result"
    }
   ],
   "source": [
    "quantum_gen.quantum_weights.grad"
   ]
  },
  {
   "cell_type": "code",
   "execution_count": 24,
   "id": "official-reality",
   "metadata": {},
   "outputs": [
    {
     "data": {
      "text/plain": [
       "tensor([[ 0.3751,  0.0772],\n",
       "        [ 0.3654,  0.0752],\n",
       "        [ 0.3363,  0.0692],\n",
       "        [-0.4119, -0.0847]], device='cuda:0')"
      ]
     },
     "execution_count": 24,
     "metadata": {},
     "output_type": "execute_result"
    }
   ],
   "source": [
    "quantum_gen.upscaling_layer.weight.grad"
   ]
  },
  {
   "cell_type": "markdown",
   "id": "handy-causing",
   "metadata": {},
   "source": [
    "# We print the parameters of our hybrid quantum classical generator."
   ]
  },
  {
   "cell_type": "code",
   "execution_count": 25,
   "id": "prostate-marina",
   "metadata": {},
   "outputs": [
    {
     "data": {
      "text/plain": [
       "Parameter containing:\n",
       "tensor([[ 2.1662, -1.1994],\n",
       "        [ 1.8532,  0.5611]], device='cuda:0', requires_grad=True)"
      ]
     },
     "execution_count": 25,
     "metadata": {},
     "output_type": "execute_result"
    }
   ],
   "source": [
    "quantum_gen.quantum_weights"
   ]
  },
  {
   "cell_type": "code",
   "execution_count": 26,
   "id": "prostate-happening",
   "metadata": {},
   "outputs": [
    {
     "data": {
      "text/plain": [
       "Parameter containing:\n",
       "tensor([[ 0.0050,  0.8195],\n",
       "        [ 0.2451, -0.7825],\n",
       "        [-0.2430, -0.0798],\n",
       "        [-0.3815,  0.3488]], device='cuda:0', requires_grad=True)"
      ]
     },
     "execution_count": 26,
     "metadata": {},
     "output_type": "execute_result"
    }
   ],
   "source": [
    "quantum_gen.upscaling_layer.weight"
   ]
  },
  {
   "cell_type": "code",
   "execution_count": 27,
   "id": "mathematical-security",
   "metadata": {},
   "outputs": [
    {
     "data": {
      "text/plain": [
       "Parameter containing:\n",
       "tensor([ 0.0578, -0.3524, -0.4396, -0.1911], device='cuda:0',\n",
       "       requires_grad=True)"
      ]
     },
     "execution_count": 27,
     "metadata": {},
     "output_type": "execute_result"
    }
   ],
   "source": [
    "quantum_gen.upscaling_layer.bias"
   ]
  },
  {
   "cell_type": "code",
   "execution_count": 28,
   "id": "ecological-kingdom",
   "metadata": {},
   "outputs": [
    {
     "data": {
      "text/plain": [
       "[Parameter containing:\n",
       " tensor([[ 2.1662, -1.1994],\n",
       "         [ 1.8532,  0.5611]], device='cuda:0', requires_grad=True),\n",
       " Parameter containing:\n",
       " tensor([[ 0.0050,  0.8195],\n",
       "         [ 0.2451, -0.7825],\n",
       "         [-0.2430, -0.0798],\n",
       "         [-0.3815,  0.3488]], device='cuda:0', requires_grad=True),\n",
       " Parameter containing:\n",
       " tensor([ 0.0578, -0.3524, -0.4396, -0.1911], device='cuda:0',\n",
       "        requires_grad=True)]"
      ]
     },
     "execution_count": 28,
     "metadata": {},
     "output_type": "execute_result"
    }
   ],
   "source": [
    "list(quantum_gen.parameters())"
   ]
  },
  {
   "cell_type": "markdown",
   "id": "colored-promotion",
   "metadata": {},
   "source": [
    "# We saw in the previous cells that the parameters obtained by calling quantum_gen.parameters() are exactly those we want to optimize, including those of the quantum circuit. We can now feel comfortable using the torch ADAM optimizer to step."
   ]
  },
  {
   "cell_type": "code",
   "execution_count": 29,
   "id": "female-diversity",
   "metadata": {},
   "outputs": [],
   "source": [
    "optimizer=torch.optim.Adam(quantum_gen.parameters())"
   ]
  },
  {
   "cell_type": "code",
   "execution_count": 30,
   "id": "negative-cooler",
   "metadata": {},
   "outputs": [],
   "source": [
    "optimizer.step()"
   ]
  },
  {
   "cell_type": "markdown",
   "id": "terminal-endorsement",
   "metadata": {},
   "source": [
    "# We print the new parameters."
   ]
  },
  {
   "cell_type": "code",
   "execution_count": 31,
   "id": "actual-assets",
   "metadata": {},
   "outputs": [
    {
     "data": {
      "text/plain": [
       "[Parameter containing:\n",
       " tensor([[ 2.1672, -1.1984],\n",
       "         [ 1.8542,  0.5601]], device='cuda:0', requires_grad=True),\n",
       " Parameter containing:\n",
       " tensor([[ 0.0040,  0.8185],\n",
       "         [ 0.2441, -0.7835],\n",
       "         [-0.2440, -0.0808],\n",
       "         [-0.3805,  0.3498]], device='cuda:0', requires_grad=True),\n",
       " Parameter containing:\n",
       " tensor([ 0.0568, -0.3534, -0.4406, -0.1901], device='cuda:0',\n",
       "        requires_grad=True)]"
      ]
     },
     "execution_count": 31,
     "metadata": {},
     "output_type": "execute_result"
    }
   ],
   "source": [
    "list(quantum_gen.parameters())"
   ]
  },
  {
   "cell_type": "code",
   "execution_count": 39,
   "id": "analyzed-hearing",
   "metadata": {},
   "outputs": [
    {
     "name": "stdout",
     "output_type": "stream",
     "text": [
      "torch.Size([2, 2])\n",
      "torch.Size([4, 2])\n",
      "torch.Size([4])\n"
     ]
    }
   ],
   "source": [
    "for a in quantum_gen.parameters():\n",
    "    print(a.shape)"
   ]
  },
  {
   "cell_type": "code",
   "execution_count": null,
   "id": "humanitarian-roller",
   "metadata": {},
   "outputs": [],
   "source": [
    "quant"
   ]
  }
 ],
 "metadata": {
  "kernelspec": {
   "display_name": "Python 3",
   "language": "python",
   "name": "python3"
  },
  "language_info": {
   "codemirror_mode": {
    "name": "ipython",
    "version": 3
   },
   "file_extension": ".py",
   "mimetype": "text/x-python",
   "name": "python",
   "nbconvert_exporter": "python",
   "pygments_lexer": "ipython3",
   "version": "3.8.5"
  }
 },
 "nbformat": 4,
 "nbformat_minor": 5
}
