{
 "cells": [
  {
   "cell_type": "code",
   "execution_count": 80,
   "id": "tested-parker",
   "metadata": {},
   "outputs": [],
   "source": [
    "import torch \n",
    "from torch import nn \n",
    "from torch.nn.init import xavier_uniform_\n",
    "import numpy as scinp\n",
    "from pennylane import numpy as np "
   ]
  },
  {
   "cell_type": "code",
   "execution_count": 81,
   "id": "czech-recruitment",
   "metadata": {},
   "outputs": [
    {
     "name": "stdout",
     "output_type": "stream",
     "text": [
      "Using cuda:0 device\n"
     ]
    }
   ],
   "source": [
    "device = torch.device(\"cuda:0\" if torch.cuda.is_available() else \"cpu\")\n",
    "print(\"Using {} device\".format(device))"
   ]
  },
  {
   "cell_type": "code",
   "execution_count": 178,
   "id": "brown-packing",
   "metadata": {},
   "outputs": [],
   "source": [
    "class Critic(nn.Module):\n",
    "\n",
    "    def __init__(self, data_dimension, hidden_dimensionality=None):\n",
    "        super(Critic, self).__init__()\n",
    "\n",
    "        if hidden_dimensionality is None:\n",
    "            hidden_dimensionality = [16, 8]\n",
    "\n",
    "        self.layer_dimensions = [data_dimension] + hidden_dimensionality + [1]\n",
    "\n",
    "        layers = []\n",
    "\n",
    "        for i in range(len(self.layer_dimensions) - 1):\n",
    "            in_dim = self.layer_dimensions[i]\n",
    "            out_dim = self.layer_dimensions[i + 1]\n",
    "            linear_layer = nn.Linear(in_dim, out_dim)\n",
    "            xavier_uniform_(linear_layer.weight)\n",
    "            layers.append(linear_layer)\n",
    "        self.network = nn.Sequential(*layers)\n",
    "\n",
    "    def forward(self, x):\n",
    "        critic_output = self.network(x)\n",
    "        return critic_output\n"
   ]
  },
  {
   "cell_type": "code",
   "execution_count": 203,
   "id": "finnish-glasgow",
   "metadata": {},
   "outputs": [
    {
     "data": {
      "text/plain": [
       "tensor([1., 2., 3., 4.])"
      ]
     },
     "execution_count": 203,
     "metadata": {},
     "output_type": "execute_result"
    }
   ],
   "source": [
    "j=torch.Tensor([1,2,3,4])\n",
    "j"
   ]
  },
  {
   "cell_type": "code",
   "execution_count": 204,
   "id": "angry-technique",
   "metadata": {},
   "outputs": [
    {
     "data": {
      "text/plain": [
       "tensor([[1., 2., 3., 4.]])"
      ]
     },
     "execution_count": 204,
     "metadata": {},
     "output_type": "execute_result"
    }
   ],
   "source": [
    "j.unsqueeze(0)"
   ]
  },
  {
   "cell_type": "code",
   "execution_count": 179,
   "id": "agricultural-intent",
   "metadata": {},
   "outputs": [
    {
     "data": {
      "text/plain": [
       "Critic(\n",
       "  (network): Sequential(\n",
       "    (0): Linear(in_features=4, out_features=16, bias=True)\n",
       "    (1): Linear(in_features=16, out_features=8, bias=True)\n",
       "    (2): Linear(in_features=8, out_features=1, bias=True)\n",
       "  )\n",
       ")"
      ]
     },
     "execution_count": 179,
     "metadata": {},
     "output_type": "execute_result"
    }
   ],
   "source": [
    "critic=Critic(4).to(device)\n",
    "critic"
   ]
  },
  {
   "cell_type": "code",
   "execution_count": 188,
   "id": "exotic-summary",
   "metadata": {},
   "outputs": [
    {
     "data": {
      "text/plain": [
       "tensor([[0.2566, 0.0461, 0.6879, 0.5575],\n",
       "        [0.3824, 0.1080, 0.7619, 0.2831],\n",
       "        [0.9292, 0.4134, 0.8556, 0.1907],\n",
       "        [0.5060, 0.2134, 0.8307, 0.6856],\n",
       "        [0.6327, 0.3293, 0.1791, 0.5815]], device='cuda:0', requires_grad=True)"
      ]
     },
     "execution_count": 188,
     "metadata": {},
     "output_type": "execute_result"
    }
   ],
   "source": [
    "X_minibatch=torch.Tensor(5,4).uniform_(0,1).to(device)\n",
    "X_minibatch.requires_grad=True\n",
    "X_minibatch"
   ]
  },
  {
   "cell_type": "code",
   "execution_count": null,
   "id": "interpreted-victory",
   "metadata": {},
   "outputs": [],
   "source": [
    "0.2566"
   ]
  },
  {
   "cell_type": "code",
   "execution_count": 194,
   "id": "prescribed-light",
   "metadata": {},
   "outputs": [
    {
     "data": {
      "text/plain": [
       "tensor([[0.0658, 0.0021, 0.4732, 0.3108],\n",
       "        [0.1463, 0.0117, 0.5805, 0.0801],\n",
       "        [0.8634, 0.1709, 0.7320, 0.0364],\n",
       "        [0.2561, 0.0456, 0.6900, 0.4701],\n",
       "        [0.4003, 0.1084, 0.0321, 0.3381]], device='cuda:0',\n",
       "       grad_fn=<PowBackward0>)"
      ]
     },
     "execution_count": 194,
     "metadata": {},
     "output_type": "execute_result"
    }
   ],
   "source": [
    "X_minibatch**2"
   ]
  },
  {
   "cell_type": "code",
   "execution_count": 198,
   "id": "loose-objective",
   "metadata": {},
   "outputs": [
    {
     "data": {
      "text/plain": [
       "tensor([0.9230, 0.9047, 1.3426, 1.2090, 0.9375], device='cuda:0',\n",
       "       grad_fn=<CopyBackwards>)"
      ]
     },
     "execution_count": 198,
     "metadata": {},
     "output_type": "execute_result"
    }
   ],
   "source": [
    "t=torch.linalg.norm(X_minibatch,ord=2,dim=1)\n",
    "t"
   ]
  },
  {
   "cell_type": "code",
   "execution_count": 201,
   "id": "stainless-interpretation",
   "metadata": {},
   "outputs": [
    {
     "data": {
      "text/plain": [
       "tensor(1.7723, device='cuda:0', grad_fn=<DivBackward0>)"
      ]
     },
     "execution_count": 201,
     "metadata": {},
     "output_type": "execute_result"
    }
   ],
   "source": [
    "torch.sum(t)/3"
   ]
  },
  {
   "cell_type": "code",
   "execution_count": 184,
   "id": "completed-light",
   "metadata": {},
   "outputs": [
    {
     "name": "stdout",
     "output_type": "stream",
     "text": [
      "tensor([[-0.1264,  0.1960, -0.3175,  0.2337]], device='cuda:0')\n",
      "tensor([[-0.1264,  0.1960, -0.3175,  0.2337]], device='cuda:0')\n",
      "tensor([[-0.1264,  0.1960, -0.3175,  0.2337]], device='cuda:0')\n",
      "tensor([[-0.1264,  0.1960, -0.3175,  0.2337]], device='cuda:0')\n"
     ]
    }
   ],
   "source": [
    "for i in range(len(X_minibatch)):\n",
    "    X_i=X_minibatch[i]\n",
    "    y_i=critic(X_i)\n",
    "    print(torch.autograd.grad(outputs=y_i,inputs=X_i)[0].unsqueeze(0))"
   ]
  },
  {
   "cell_type": "code",
   "execution_count": 113,
   "id": "painful-sending",
   "metadata": {},
   "outputs": [
    {
     "data": {
      "text/plain": [
       "array([[ 0.91235996, -0.32094347, -0.88413547,  0.74381247],\n",
       "       [ 0.96290347,  0.02159079,  0.17826059,  0.32000543],\n",
       "       [-0.19383135, -0.38087511, -0.95024166, -0.19886284],\n",
       "       [ 0.70306431,  0.41781422,  0.48008937, -0.79094579]])"
      ]
     },
     "execution_count": 113,
     "metadata": {},
     "output_type": "execute_result"
    }
   ],
   "source": [
    "B=scinp.random.uniform(-1,1,size=(4,4))\n",
    "B"
   ]
  },
  {
   "cell_type": "code",
   "execution_count": 117,
   "id": "dramatic-capture",
   "metadata": {},
   "outputs": [
    {
     "data": {
      "text/plain": [
       "array([[ 0.91235996, -0.32094347, -0.88413547,  0.74381247],\n",
       "       [ 0.70306431,  0.41781422,  0.48008937, -0.79094579]])"
      ]
     },
     "execution_count": 117,
     "metadata": {},
     "output_type": "execute_result"
    }
   ],
   "source": [
    "B[[0,3]]"
   ]
  },
  {
   "cell_type": "code",
   "execution_count": 122,
   "id": "bulgarian-breach",
   "metadata": {},
   "outputs": [
    {
     "data": {
      "text/plain": [
       "numpy.ndarray"
      ]
     },
     "execution_count": 122,
     "metadata": {},
     "output_type": "execute_result"
    }
   ],
   "source": [
    "type(B[np.random.choice(4,size=2)])"
   ]
  },
  {
   "cell_type": "code",
   "execution_count": 123,
   "id": "superior-ottawa",
   "metadata": {},
   "outputs": [],
   "source": [
    "def sample_arrays(X, batch_size, device):\n",
    "\n",
    "    # We sample n=batch_size points from the data\n",
    "    row_indices = np.random.choice(len(X), size=batch_size)\n",
    "    X_minibatch = X[row_indices]\n",
    "    X_minibatch = torch.Tensor(X_minibatch).to(device)\n",
    "\n",
    "    # We sample n=batch_size points from the generator\n",
    "    \n",
    "    row_indices = np.random.choice(len(X), size=batch_size)\n",
    "    z_minibatch = X[row_indices]\n",
    "    z_minibatch = torch.Tensor(z_minibatch).to(device)\n",
    "    \n",
    "    # We sample n=batch_size noise points\n",
    "    epsilons = torch.Tensor(batch_size).uniform_(0, 1).to(device)\n",
    "    return X_minibatch, z_minibatch, epsilons\n"
   ]
  },
  {
   "cell_type": "code",
   "execution_count": 173,
   "id": "acknowledged-immune",
   "metadata": {},
   "outputs": [],
   "source": [
    "X_minibatch, z_minibatch, epsilons=sample_arrays(B,2,device)"
   ]
  },
  {
   "cell_type": "code",
   "execution_count": 174,
   "id": "weird-southwest",
   "metadata": {},
   "outputs": [
    {
     "data": {
      "text/plain": [
       "tensor([[10.],\n",
       "        [10.]], device='cuda:0')"
      ]
     },
     "execution_count": 174,
     "metadata": {},
     "output_type": "execute_result"
    }
   ],
   "source": [
    "epsilons=torch.Tensor(np.ones(2)*10).to(device)\n",
    "epsilons=epsilons[:,np.newaxis]\n",
    "epsilons"
   ]
  },
  {
   "cell_type": "code",
   "execution_count": 175,
   "id": "overhead-subject",
   "metadata": {},
   "outputs": [
    {
     "data": {
      "text/plain": [
       "tensor([[ 0.0505,  0.3425,  1.0624, -0.4238],\n",
       "        [ 0.8969,  0.7987,  1.4303, -0.5921]], device='cuda:0')"
      ]
     },
     "execution_count": 175,
     "metadata": {},
     "output_type": "execute_result"
    }
   ],
   "source": [
    "diff=X_minibatch-z_minibatch\n",
    "diff"
   ]
  },
  {
   "cell_type": "code",
   "execution_count": 176,
   "id": "maritime-personality",
   "metadata": {},
   "outputs": [
    {
     "data": {
      "text/plain": [
       "tensor([[ 0.5054,  3.4253, 10.6240, -4.2381],\n",
       "        [ 8.9690,  7.9869, 14.3033, -5.9208]], device='cuda:0')"
      ]
     },
     "execution_count": 176,
     "metadata": {},
     "output_type": "execute_result"
    }
   ],
   "source": [
    "epsilons*diff"
   ]
  },
  {
   "cell_type": "code",
   "execution_count": 142,
   "id": "decimal-kentucky",
   "metadata": {},
   "outputs": [
    {
     "data": {
      "text/plain": [
       "tensor([[21., 20.],\n",
       "        [35., 20.],\n",
       "        [ 7.,  0.]])"
      ]
     },
     "execution_count": 142,
     "metadata": {},
     "output_type": "execute_result"
    }
   ],
   "source": [
    "X = torch.Tensor([[3, 5],[5, 5],[1, 0]])                                                                                                                                                                          \n",
    "y = torch.Tensor([7,4])                                                                                                                                                                                   \n",
    "X*y"
   ]
  },
  {
   "cell_type": "code",
   "execution_count": null,
   "id": "visible-rough",
   "metadata": {},
   "outputs": [],
   "source": []
  }
 ],
 "metadata": {
  "kernelspec": {
   "display_name": "Python 3",
   "language": "python",
   "name": "python3"
  },
  "language_info": {
   "codemirror_mode": {
    "name": "ipython",
    "version": 3
   },
   "file_extension": ".py",
   "mimetype": "text/x-python",
   "name": "python",
   "nbconvert_exporter": "python",
   "pygments_lexer": "ipython3",
   "version": "3.8.5"
  }
 },
 "nbformat": 4,
 "nbformat_minor": 5
}
