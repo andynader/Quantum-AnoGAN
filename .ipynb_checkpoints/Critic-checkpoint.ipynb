{
 "cells": [
  {
   "cell_type": "code",
   "execution_count": 4,
   "id": "electric-cyprus",
   "metadata": {},
   "outputs": [],
   "source": [
    "import torch \n",
    "from torch import nn \n",
    "from torch.nn.init import xavier_uniform_\n",
    "import numpy as scinp"
   ]
  },
  {
   "cell_type": "code",
   "execution_count": 5,
   "id": "absent-marshall",
   "metadata": {},
   "outputs": [
    {
     "name": "stdout",
     "output_type": "stream",
     "text": [
      "Using cuda:0 device\n"
     ]
    }
   ],
   "source": [
    "device = torch.device(\"cuda:0\" if torch.cuda.is_available() else \"cpu\")\n",
    "print(\"Using {} device\".format(device))"
   ]
  },
  {
   "cell_type": "code",
   "execution_count": 14,
   "id": "another-referral",
   "metadata": {},
   "outputs": [],
   "source": [
    "class Critic(nn.Module):\n",
    "    def __init__(self,data_dimension,hidden_dimensionality=[16,8]):\n",
    "        super(Critic, self).__init__()\n",
    "        self.flatten=nn.Flatten()\n",
    "        self.layer_dimensions=[data_dimension]+hidden_dimensionality+[1]\n",
    "        \n",
    "        layers=[]\n",
    "        \n",
    "        for i in range(len(self.layer_dimensions)-1):\n",
    "            in_dim=self.layer_dimensions[i]\n",
    "            out_dim=self.layer_dimensions[i+1]\n",
    "            linear_layer=nn.Linear(in_dim,out_dim)\n",
    "            xavier_uniform_(linear_layer.weight)\n",
    "            layers.append(linear_layer)\n",
    "            \n",
    "        self.network=nn.Sequential(*layers)\n",
    "        \n",
    "    def forward(self,x):\n",
    "        x=self.flatten(x)\n",
    "        critic_output=self.network(x)\n",
    "        return critic_output\n",
    "    def forward(self,x):\n",
    "        critic_output=self.network(x)\n",
    "        return critic_output"
   ]
  },
  {
   "cell_type": "code",
   "execution_count": 15,
   "id": "experimental-geography",
   "metadata": {},
   "outputs": [
    {
     "data": {
      "text/plain": [
       "Critic(\n",
       "  (flatten): Flatten(start_dim=1, end_dim=-1)\n",
       "  (network): Sequential(\n",
       "    (0): Linear(in_features=4, out_features=16, bias=True)\n",
       "    (1): Linear(in_features=16, out_features=8, bias=True)\n",
       "    (2): Linear(in_features=8, out_features=1, bias=True)\n",
       "  )\n",
       ")"
      ]
     },
     "execution_count": 15,
     "metadata": {},
     "output_type": "execute_result"
    }
   ],
   "source": [
    "critic=Critic(4).to(device)\n",
    "critic"
   ]
  },
  {
   "cell_type": "code",
   "execution_count": 13,
   "id": "south-puzzle",
   "metadata": {},
   "outputs": [
    {
     "data": {
      "text/plain": [
       "tensor([[ 0.0576,  0.5717,  0.9994, -0.0019]], device='cuda:0')"
      ]
     },
     "execution_count": 13,
     "metadata": {},
     "output_type": "execute_result"
    }
   ],
   "source": []
  },
  {
   "cell_type": "code",
   "execution_count": 74,
   "id": "infrared-dodge",
   "metadata": {},
   "outputs": [
    {
     "data": {
      "text/plain": [
       "tensor([[-0.1063]], device='cuda:0', grad_fn=<AddmmBackward>)"
      ]
     },
     "execution_count": 74,
     "metadata": {},
     "output_type": "execute_result"
    }
   ],
   "source": [
    "critic(x)"
   ]
  }
 ],
 "metadata": {
  "kernelspec": {
   "display_name": "Python 3",
   "language": "python",
   "name": "python3"
  },
  "language_info": {
   "codemirror_mode": {
    "name": "ipython",
    "version": 3
   },
   "file_extension": ".py",
   "mimetype": "text/x-python",
   "name": "python",
   "nbconvert_exporter": "python",
   "pygments_lexer": "ipython3",
   "version": "3.8.5"
  }
 },
 "nbformat": 4,
 "nbformat_minor": 5
}
