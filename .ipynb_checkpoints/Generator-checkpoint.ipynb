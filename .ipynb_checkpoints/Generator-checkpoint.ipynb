{
 "cells": [
  {
   "cell_type": "code",
   "execution_count": 3,
   "id": "placed-vermont",
   "metadata": {},
   "outputs": [],
   "source": [
    "import pennylane as qml \n",
    "from pennylane import numpy as np \n",
    "import numpy as scinp \n",
    "import matplotlib.pyplot as plt \n",
    "plt.rcParams['figure.figsize'] = [10, 10]\n",
    "import torch\n",
    "from torch.nn.init import xavier_uniform_\n",
    "from torch import nn "
   ]
  },
  {
   "cell_type": "code",
   "execution_count": 4,
   "id": "fifteen-growth",
   "metadata": {},
   "outputs": [],
   "source": [
    "latent_dimensionality=2"
   ]
  },
  {
   "cell_type": "code",
   "execution_count": 5,
   "id": "integrated-legislature",
   "metadata": {},
   "outputs": [],
   "source": [
    "dev=qml.device(\"qulacs.simulator\",wires=latent_dimensionality,gpu=True)"
   ]
  },
  {
   "cell_type": "code",
   "execution_count": 6,
   "id": "severe-massachusetts",
   "metadata": {},
   "outputs": [],
   "source": [
    "def state_preparation(latent_variables):\n",
    "    for i in range(len(latent_variables)):\n",
    "        qml.RX(latent_variables[i],wires=i)"
   ]
  },
  {
   "cell_type": "code",
   "execution_count": 7,
   "id": "private-treasurer",
   "metadata": {},
   "outputs": [],
   "source": [
    "def layer(W):\n",
    "    num_wires=len(W)\n",
    "    for i in range(num_wires):\n",
    "        random_rot=np.random.choice([qml.RX,qml.RY,qml.RZ])\n",
    "        random_rot(W[i],wires=i)\n",
    "        \n",
    "    for i in range(num_wires-1):\n",
    "        qml.CNOT(wires=[i,i+1])\n",
    "        "
   ]
  },
  {
   "cell_type": "code",
   "execution_count": 8,
   "id": "favorite-intellectual",
   "metadata": {},
   "outputs": [],
   "source": [
    "@qml.qnode(dev,interface='torch')\n",
    "def variational_circuit(latent_variables,weights):\n",
    "    # The number of wires is exactly equal to \n",
    "    # the dimensionality of the latent variables.\n",
    "    \n",
    "    state_preparation(latent_variables)\n",
    "\n",
    "    for W in weights:\n",
    "        layer(W)\n",
    "    \n",
    "    return [qml.expval(qml.PauliZ(i)) for i in range(len(latent_variables))]"
   ]
  },
  {
   "cell_type": "markdown",
   "id": "fatty-interstate",
   "metadata": {},
   "source": [
    "# We test our variational circuit by generating random variables and a glorot uniform distributed weights array, and drawing the circuit and evaluating it. "
   ]
  },
  {
   "cell_type": "code",
   "execution_count": 9,
   "id": "civil-parts",
   "metadata": {},
   "outputs": [
    {
     "data": {
      "text/plain": [
       "array([0.18158041, 1.69477679])"
      ]
     },
     "execution_count": 9,
     "metadata": {},
     "output_type": "execute_result"
    }
   ],
   "source": [
    "latent_variables=scinp.random.uniform(-np.pi,np.pi,size=(latent_dimensionality,))\n",
    "latent_variables"
   ]
  },
  {
   "cell_type": "code",
   "execution_count": 10,
   "id": "republican-vertical",
   "metadata": {},
   "outputs": [],
   "source": [
    "num_layers=2"
   ]
  },
  {
   "cell_type": "code",
   "execution_count": 11,
   "id": "biblical-certificate",
   "metadata": {},
   "outputs": [
    {
     "data": {
      "text/plain": [
       "tensor([[ 0.5923,  0.2291],\n",
       "        [-0.8256,  0.0123]])"
      ]
     },
     "execution_count": 11,
     "metadata": {},
     "output_type": "execute_result"
    }
   ],
   "source": [
    "W=torch.empty(num_layers,latent_dimensionality)\n",
    "W=xavier_uniform_(W)\n",
    "W"
   ]
  },
  {
   "cell_type": "code",
   "execution_count": 12,
   "id": "organizational-gamma",
   "metadata": {},
   "outputs": [],
   "source": [
    "drawer=qml.draw(variational_circuit)"
   ]
  },
  {
   "cell_type": "code",
   "execution_count": 13,
   "id": "above-department",
   "metadata": {},
   "outputs": [
    {
     "name": "stdout",
     "output_type": "stream",
     "text": [
      " 0: ──RX(0.182)──RZ(0.592)──╭C──RZ(-0.826)──╭C──┤ ⟨Z⟩ \n",
      " 1: ──RX(1.69)───RZ(0.229)──╰X──RZ(0.0123)──╰X──┤ ⟨Z⟩ \n",
      "\n"
     ]
    }
   ],
   "source": [
    "# We draw the circuit. \n",
    "variational_circuit(latent_variables,W)\n",
    "print(variational_circuit.draw())"
   ]
  },
  {
   "cell_type": "code",
   "execution_count": 14,
   "id": "combined-institution",
   "metadata": {},
   "outputs": [
    {
     "data": {
      "text/plain": [
       "tensor([ 0.4850, -0.2408], dtype=torch.float64)"
      ]
     },
     "execution_count": 14,
     "metadata": {},
     "output_type": "execute_result"
    }
   ],
   "source": [
    "variational_circuit(latent_variables,W)"
   ]
  },
  {
   "cell_type": "markdown",
   "id": "residential-heritage",
   "metadata": {},
   "source": [
    "# We have shown that the code for the variational circuit is working correctly. We can now proceed with the rest of the algorithm. "
   ]
  },
  {
   "cell_type": "code",
   "execution_count": 15,
   "id": "hydraulic-reward",
   "metadata": {},
   "outputs": [],
   "source": [
    "# We define the Torch generator now."
   ]
  },
  {
   "cell_type": "code",
   "execution_count": 24,
   "id": "rising-yacht",
   "metadata": {},
   "outputs": [
    {
     "name": "stdout",
     "output_type": "stream",
     "text": [
      "Using cuda:0 device\n"
     ]
    }
   ],
   "source": [
    "device = torch.device(\"cuda:0\" if torch.cuda.is_available() else \"cpu\")\n",
    "print(\"Using {} device\".format(device))"
   ]
  },
  {
   "cell_type": "code",
   "execution_count": 69,
   "id": "intellectual-event",
   "metadata": {},
   "outputs": [],
   "source": [
    "class QuantumGenerator(nn.Module):\n",
    "    \n",
    "    def __init__(self,variational_quantum_circuit,latent_dim,num_layers,upscaling_dimension,device):\n",
    "        super(QuantumGenerator,self).__init__()\n",
    "        \n",
    "        self.device=device\n",
    "        self.latent_dim=latent_dim\n",
    "        # We initalize and store the quantum classifier's weights\n",
    "        W=torch.Tensor(num_layers,latent_dim).uniform_(-np.pi,np.pi)\n",
    "        self.quantum_weights=W\n",
    "        \n",
    "        # We store the quantum classifier\n",
    "        self.vqc=variational_quantum_circuit\n",
    "                \n",
    "        # We define the upscaling layer, and we initialize it using the \n",
    "        # glorot uniform weight initialization\n",
    "        self.upscaling_layer=nn.Linear(latent_dim,upscaling_dimension)\n",
    "        xavier_uniform_(self.upscaling_layer.weight)\n",
    "        \n",
    "    def forward(self):\n",
    "        # We define the latent variables, and pass them through a quantum generator.\n",
    "        latent_variables=torch.Tensor(self.latent_dim).uniform_(-np.pi,np.pi).to(self.device)\n",
    "        quantum_out=torch.Tensor(0,latent_dimensionality).to(self.device)\n",
    "        exp_val=self.vqc(latent_variables,self.quantum_weights).float().unsqueeze(0).to(self.device)\n",
    "        quantum_out=torch.cat((quantum_out,exp_val))\n",
    "        generated_sample=self.upscaling_layer(quantum_out)\n",
    "        return generated_sample"
   ]
  },
  {
   "cell_type": "code",
   "execution_count": 70,
   "id": "chinese-impact",
   "metadata": {},
   "outputs": [],
   "source": [
    "quantum_gen=QuantumGenerator(variational_circuit,latent_dimensionality,num_layers,4,device=device)\n",
    "quantum_gen=quantum_gen.to(device)"
   ]
  },
  {
   "cell_type": "code",
   "execution_count": 71,
   "id": "equivalent-keyboard",
   "metadata": {},
   "outputs": [
    {
     "data": {
      "text/plain": [
       "tensor([[-1.7541, -1.7059, -0.4282,  0.4312]], device='cuda:0',\n",
       "       grad_fn=<AddmmBackward>)"
      ]
     },
     "execution_count": 71,
     "metadata": {},
     "output_type": "execute_result"
    }
   ],
   "source": [
    "quantum_gen()"
   ]
  },
  {
   "cell_type": "code",
   "execution_count": null,
   "id": "forbidden-thailand",
   "metadata": {},
   "outputs": [],
   "source": []
  },
  {
   "cell_type": "code",
   "execution_count": null,
   "id": "included-product",
   "metadata": {},
   "outputs": [],
   "source": []
  },
  {
   "cell_type": "code",
   "execution_count": null,
   "id": "operating-difference",
   "metadata": {},
   "outputs": [],
   "source": []
  },
  {
   "cell_type": "code",
   "execution_count": null,
   "id": "tender-aerospace",
   "metadata": {},
   "outputs": [],
   "source": []
  },
  {
   "cell_type": "code",
   "execution_count": null,
   "id": "bigger-disclosure",
   "metadata": {},
   "outputs": [],
   "source": []
  },
  {
   "cell_type": "code",
   "execution_count": null,
   "id": "spare-flesh",
   "metadata": {},
   "outputs": [],
   "source": []
  },
  {
   "cell_type": "code",
   "execution_count": null,
   "id": "corporate-count",
   "metadata": {},
   "outputs": [],
   "source": []
  },
  {
   "cell_type": "markdown",
   "id": "stylish-exchange",
   "metadata": {},
   "source": [
    "# We now define some toy loss functions to make sure that we know how to train the generator properly."
   ]
  },
  {
   "cell_type": "code",
   "execution_count": null,
   "id": "boring-gregory",
   "metadata": {},
   "outputs": [],
   "source": []
  }
 ],
 "metadata": {
  "kernelspec": {
   "display_name": "Python 3",
   "language": "python",
   "name": "python3"
  },
  "language_info": {
   "codemirror_mode": {
    "name": "ipython",
    "version": 3
   },
   "file_extension": ".py",
   "mimetype": "text/x-python",
   "name": "python",
   "nbconvert_exporter": "python",
   "pygments_lexer": "ipython3",
   "version": "3.8.5"
  }
 },
 "nbformat": 4,
 "nbformat_minor": 5
}
