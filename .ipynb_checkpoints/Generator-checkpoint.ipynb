{
 "cells": [
  {
   "cell_type": "code",
   "execution_count": 3,
   "id": "electoral-correlation",
   "metadata": {},
   "outputs": [],
   "source": [
    "import pennylane as qml \n",
    "from pennylane import numpy as np \n",
    "import numpy as scinp \n",
    "import matplotlib.pyplot as plt \n",
    "plt.rcParams['figure.figsize'] = [10, 10]\n",
    "import torch\n",
    "from torch.nn.init import xavier_uniform_\n",
    "from torch import nn "
   ]
  },
  {
   "cell_type": "code",
   "execution_count": 4,
   "id": "official-cricket",
   "metadata": {},
   "outputs": [],
   "source": [
    "latent_dimensionality=2"
   ]
  },
  {
   "cell_type": "code",
   "execution_count": 5,
   "id": "black-trigger",
   "metadata": {},
   "outputs": [],
   "source": [
    "dev=qml.device(\"qulacs.simulator\",wires=latent_dimensionality,gpu=True)"
   ]
  },
  {
   "cell_type": "code",
   "execution_count": 6,
   "id": "amended-wyoming",
   "metadata": {},
   "outputs": [],
   "source": [
    "def state_preparation(latent_variables):\n",
    "    for i in range(len(latent_variables)):\n",
    "        qml.RX(latent_variables[i],wires=i)"
   ]
  },
  {
   "cell_type": "code",
   "execution_count": 7,
   "id": "initial-cologne",
   "metadata": {},
   "outputs": [],
   "source": [
    "def layer(W):\n",
    "    num_wires=len(W)\n",
    "    for i in range(num_wires):\n",
    "        random_rot=np.random.choice([qml.RX,qml.RY,qml.RZ])\n",
    "        random_rot(W[i],wires=i)\n",
    "        \n",
    "    for i in range(num_wires-1):\n",
    "        qml.CNOT(wires=[i,i+1])\n",
    "        "
   ]
  },
  {
   "cell_type": "code",
   "execution_count": 8,
   "id": "viral-teaching",
   "metadata": {},
   "outputs": [],
   "source": [
    "@qml.qnode(dev,interface='torch')\n",
    "def variational_circuit(latent_variables,weights):\n",
    "    # The number of wires is exactly equal to \n",
    "    # the dimensionality of the latent variables.\n",
    "    \n",
    "    state_preparation(latent_variables)\n",
    "\n",
    "    for W in weights:\n",
    "        layer(W)\n",
    "    \n",
    "    return [qml.expval(qml.PauliZ(i)) for i in range(len(latent_variables))]"
   ]
  },
  {
   "cell_type": "markdown",
   "id": "coastal-shakespeare",
   "metadata": {},
   "source": [
    "# We test our variational circuit by generating random variables and a glorot uniform distributed weights array, and drawing the circuit and evaluating it. "
   ]
  },
  {
   "cell_type": "code",
   "execution_count": 9,
   "id": "collectible-surface",
   "metadata": {},
   "outputs": [
    {
     "data": {
      "text/plain": [
       "array([0.18158041, 1.69477679])"
      ]
     },
     "execution_count": 9,
     "metadata": {},
     "output_type": "execute_result"
    }
   ],
   "source": [
    "latent_variables=scinp.random.uniform(-np.pi,np.pi,size=(latent_dimensionality,))\n",
    "latent_variables"
   ]
  },
  {
   "cell_type": "code",
   "execution_count": 10,
   "id": "surprised-voice",
   "metadata": {},
   "outputs": [],
   "source": [
    "num_layers=2"
   ]
  },
  {
   "cell_type": "code",
   "execution_count": 11,
   "id": "patent-noise",
   "metadata": {},
   "outputs": [
    {
     "data": {
      "text/plain": [
       "tensor([[ 0.5923,  0.2291],\n",
       "        [-0.8256,  0.0123]])"
      ]
     },
     "execution_count": 11,
     "metadata": {},
     "output_type": "execute_result"
    }
   ],
   "source": [
    "W=torch.empty(num_layers,latent_dimensionality)\n",
    "W=xavier_uniform_(W)\n",
    "W"
   ]
  },
  {
   "cell_type": "code",
   "execution_count": 12,
   "id": "protecting-destiny",
   "metadata": {},
   "outputs": [],
   "source": [
    "drawer=qml.draw(variational_circuit)"
   ]
  },
  {
   "cell_type": "code",
   "execution_count": 13,
   "id": "dimensional-barrel",
   "metadata": {},
   "outputs": [
    {
     "name": "stdout",
     "output_type": "stream",
     "text": [
      " 0: ──RX(0.182)──RZ(0.592)──╭C──RZ(-0.826)──╭C──┤ ⟨Z⟩ \n",
      " 1: ──RX(1.69)───RZ(0.229)──╰X──RZ(0.0123)──╰X──┤ ⟨Z⟩ \n",
      "\n"
     ]
    }
   ],
   "source": [
    "# We draw the circuit. \n",
    "variational_circuit(latent_variables,W)\n",
    "print(variational_circuit.draw())"
   ]
  },
  {
   "cell_type": "code",
   "execution_count": 14,
   "id": "recovered-eugene",
   "metadata": {},
   "outputs": [
    {
     "data": {
      "text/plain": [
       "tensor([ 0.4850, -0.2408], dtype=torch.float64)"
      ]
     },
     "execution_count": 14,
     "metadata": {},
     "output_type": "execute_result"
    }
   ],
   "source": [
    "variational_circuit(latent_variables,W)"
   ]
  },
  {
   "cell_type": "markdown",
   "id": "prompt-giant",
   "metadata": {},
   "source": [
    "# We have shown that the code for the variational circuit is working correctly. We can now proceed with the rest of the algorithm. "
   ]
  },
  {
   "cell_type": "code",
   "execution_count": 15,
   "id": "weighted-return",
   "metadata": {},
   "outputs": [],
   "source": [
    "# We define the Torch generator now."
   ]
  },
  {
   "cell_type": "code",
   "execution_count": 24,
   "id": "closed-wrapping",
   "metadata": {},
   "outputs": [
    {
     "name": "stdout",
     "output_type": "stream",
     "text": [
      "Using cuda:0 device\n"
     ]
    }
   ],
   "source": [
    "device = torch.device(\"cuda:0\" if torch.cuda.is_available() else \"cpu\")\n",
    "print(\"Using {} device\".format(device))"
   ]
  },
  {
   "cell_type": "code",
   "execution_count": 59,
   "id": "rubber-inclusion",
   "metadata": {},
   "outputs": [],
   "source": [
    "class QuantumGenerator(nn.Module):\n",
    "    \n",
    "    def __init__(self,variational_quantum_circuit,latent_dim,num_layers,upscaling_dimension,device):\n",
    "        super(QuantumGenerator,self).__init__()\n",
    "        \n",
    "        self.device=device\n",
    "        self.latent_dim=latent_dim\n",
    "        # We initalize and store the quantum classifier's weights\n",
    "        W=torch.Tensor(num_layers,latent_dim).uniform_(-np.pi,np.pi)\n",
    "        self.quantum_weights=W\n",
    "        \n",
    "        # We store the quantum classifier\n",
    "        self.vqc=variational_quantum_circuit\n",
    "                \n",
    "        # We define the upscaling layer, and we initialize it using the \n",
    "        # glorot uniform weight initialization\n",
    "        self.upscaling_layer=nn.Linear(latent_dim,upscaling_dimension)\n",
    "        xavier_uniform_(self.upscaling_layer.weight)\n",
    "        \n",
    "    def forward(self):\n",
    "        # We define the latent variables, and pass them through a quantum generator.\n",
    "        latent_variables=torch.Tensor(self.latent_dim).uniform_(-np.pi,np.pi).to(self.device)\n",
    "        quantum_out=torch.Tensor(0,latent_dimensionality).to(self.device)\n",
    "        exp_val=self.vqc(latent_variables,self.quantum_weights).float().unsqueeze(0).to(self.device)\n",
    "        quantum_out=torch.cat((quantum_out,exp_val))\n",
    "        generated_sample=self.upscaling_layer(quantum_out)\n",
    "        generated_sample=quantum_out\n",
    "        return generated_sample"
   ]
  },
  {
   "cell_type": "code",
   "execution_count": 60,
   "id": "motivated-condition",
   "metadata": {},
   "outputs": [],
   "source": [
    "quantum_gen=QuantumGenerator(variational_circuit,latent_dimensionality,num_layers,4,device=device)\n",
    "quantum_gen=quantum_gen.to(device)"
   ]
  },
  {
   "cell_type": "code",
   "execution_count": 67,
   "id": "adjusted-meditation",
   "metadata": {},
   "outputs": [
    {
     "data": {
      "text/plain": [
       "tensor([[-0.2326,  0.1813]], device='cuda:0')"
      ]
     },
     "execution_count": 67,
     "metadata": {},
     "output_type": "execute_result"
    }
   ],
   "source": [
    "quantum_gen()"
   ]
  }
 ],
 "metadata": {
  "kernelspec": {
   "display_name": "Python 3",
   "language": "python",
   "name": "python3"
  },
  "language_info": {
   "codemirror_mode": {
    "name": "ipython",
    "version": 3
   },
   "file_extension": ".py",
   "mimetype": "text/x-python",
   "name": "python",
   "nbconvert_exporter": "python",
   "pygments_lexer": "ipython3",
   "version": "3.8.5"
  }
 },
 "nbformat": 4,
 "nbformat_minor": 5
}
